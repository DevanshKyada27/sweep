{
 "cells": [
  {
   "cell_type": "code",
   "execution_count": 2,
   "metadata": {},
   "outputs": [],
   "source": [
    "import rope.base.project\n",
    "from rope.refactor.move import MoveGlobal\n"
   ]
  },
  {
   "cell_type": "code",
   "execution_count": 10,
   "metadata": {},
   "outputs": [
    {
     "name": "stdout",
     "output_type": "stream",
     "text": [
      "3024\n"
     ]
    }
   ],
   "source": [
    "myproject = rope.base.project.Project('../../sweepai')\n",
    "\n",
    "myresource = myproject.get_resource('handlers/on_ticket.py')\n",
    "func_def = \"center(\"\n",
    "offset = myresource.read().find(func_def)\n",
    "print(offset)\n",
    "\n",
    "mover = MoveGlobal(myproject, myresource, offset)\n",
    "change_set = mover.get_changes(\"utils.ticket_utils\")\n",
    "# for change in change_set.changes:\n",
    "#     print(change.get_description())\n",
    "myproject.do(change_set)"
   ]
  },
  {
   "cell_type": "code",
   "execution_count": 26,
   "metadata": {},
   "outputs": [
    {
     "name": "stdout",
     "output_type": "stream",
     "text": [
      "85\n",
      "--- a/helpers/test2.py\n",
      "+++ b/helpers/test2.py\n",
      "@@ -1,8 +1,7 @@\n",
      "+import utils\n",
      " def a_func():\n",
      "     a = 1\n",
      "     b = 2 * a\n",
      "-    c = a * foo() + b * 3\n",
      "+    c = a * utils.foo() + b * 3\n",
      "     print(b, c)\n",
      " \n",
      "-def foo():\n",
      "-    return 2\n",
      "\n",
      "--- a/helpers/utils.py\n",
      "+++ b/helpers/utils.py\n",
      "@@ -0,0 +1,2 @@\n",
      "+def foo():\n",
      "+    return 2\n",
      "\n"
     ]
    }
   ],
   "source": [
    "def move_function(\n",
    "    file_path: str,\n",
    "    method_name: str,\n",
    "    destination: str,\n",
    "    project_name: str = \"src\" \n",
    "):\n",
    "    myproject = rope.base.project.Project(project_name)\n",
    "\n",
    "    myresource = myproject.get_resource(file_path)\n",
    "    func_def = f\"def {method_name}():\"\n",
    "    offset = myresource.read().find(func_def) + len(\"def \")\n",
    "    print(offset)\n",
    "\n",
    "    mover = MoveGlobal(myproject, myresource, offset)\n",
    "    change_set = mover.get_changes(destination)\n",
    "    for change in change_set.changes:\n",
    "        print(change.get_description())\n",
    "\n",
    "move_function(\"helpers/test2.py\", \"foo\", \"utils\")"
   ]
  },
  {
   "cell_type": "code",
   "execution_count": null,
   "metadata": {},
   "outputs": [],
   "source": []
  }
 ],
 "metadata": {
  "kernelspec": {
   "display_name": "Python 3.10.10 ('sweepai-u_CIt3kb-py3.10')",
   "language": "python",
   "name": "python3"
  },
  "language_info": {
   "codemirror_mode": {
    "name": "ipython",
    "version": 3
   },
   "file_extension": ".py",
   "mimetype": "text/x-python",
   "name": "python",
   "nbconvert_exporter": "python",
   "pygments_lexer": "ipython3",
   "version": "3.10.10"
  },
  "orig_nbformat": 4,
  "vscode": {
   "interpreter": {
    "hash": "25d341f3248a096a89b9dbf6eec8e41f63aed02f6ba059df22a49224e3e8f1b0"
   }
  }
 },
 "nbformat": 4,
 "nbformat_minor": 2
}
